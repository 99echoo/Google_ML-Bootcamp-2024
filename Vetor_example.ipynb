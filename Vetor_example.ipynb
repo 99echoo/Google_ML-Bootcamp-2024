{
 "cells": [
  {
   "cell_type": "code",
   "execution_count": 1,
   "metadata": {},
   "outputs": [
    {
     "name": "stdout",
     "output_type": "stream",
     "text": [
      "[1 2 3 4]\n"
     ]
    }
   ],
   "source": [
    "import numpy as np\n",
    "\n",
    "a = np.array([1,2,3,4])\n",
    "print(a)"
   ]
  },
  {
   "cell_type": "code",
   "execution_count": 22,
   "metadata": {},
   "outputs": [
    {
     "name": "stdout",
     "output_type": "stream",
     "text": [
      "249811.97775019455\n",
      "Vectorized version: 1.2428760528564453 ms\n",
      "249811.97775019193\n",
      "For loop: 345.7193374633789 ms\n"
     ]
    }
   ],
   "source": [
    "import time\n",
    "\n",
    "#Non-vertorize\n",
    "a = np.random.rand(1000000)\n",
    "b = np.random.rand(1000000)\n",
    "\n",
    "tic = time.time()\n",
    "c = np.dot(a,b)\n",
    "toc =time.time()\n",
    "\n",
    "print(c)\n",
    "print(f\"Vectorized version:\", 1000*(toc-tic), \"ms\")\n",
    "\n",
    "#Vectorize\n",
    "c = 0\n",
    "tic = time.time()\n",
    "for i in range(1000000):\n",
    "    c+= a[i] * b[i]\n",
    "toc = time.time()\n",
    "\n",
    "print(c)\n",
    "print(f\"For loop:\", 1000*(toc - tic), \"ms\")"
   ]
  },
  {
   "cell_type": "code",
   "execution_count": null,
   "metadata": {},
   "outputs": [],
   "source": [
    "# Non-vertorize\n",
    "u = np.zeros((n,1))\n",
    "for i in range(n):\n",
    "    u[i] = math.exp(v[i]\n",
    "                    \n",
    "#Vectorize\n",
    "import numpy as np\n",
    "u = np.exp(v)"
   ]
  }
 ],
 "metadata": {
  "kernelspec": {
   "display_name": "base",
   "language": "python",
   "name": "python3"
  },
  "language_info": {
   "codemirror_mode": {
    "name": "ipython",
    "version": 3
   },
   "file_extension": ".py",
   "mimetype": "text/x-python",
   "name": "python",
   "nbconvert_exporter": "python",
   "pygments_lexer": "ipython3",
   "version": "3.9.13"
  }
 },
 "nbformat": 4,
 "nbformat_minor": 2
}
